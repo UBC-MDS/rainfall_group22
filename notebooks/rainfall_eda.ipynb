{
 "cells": [
  {
   "cell_type": "code",
   "execution_count": null,
   "metadata": {},
   "outputs": [],
   "source": []
  }
 ],
 "metadata": {
  "kernelspec": {
   "display_name": "Python 3.9.2 64-bit",
   "name": "python392jvsc74a57bd05f64a08ba80a1d706a454cd0ee914c64032d7d24fcc0f3b13111ced7280307b5"
  },
  "language_info": {
   "name": "python",
   "version": ""
  },
  "metadata": {
   "interpreter": {
    "hash": "5f64a08ba80a1d706a454cd0ee914c64032d7d24fcc0f3b13111ced7280307b5"
   }
  },
  "orig_nbformat": 2
 },
 "nbformat": 4,
 "nbformat_minor": 2
}