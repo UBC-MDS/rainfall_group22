{
 "cells": [
  {
   "cell_type": "code",
   "execution_count": 1,
   "metadata": {},
   "outputs": [],
   "source": [
    "import pandas as pd\n",
    "from src import download as dl\n",
    "from IPython.display import display\n",
    "\n",
    "%load_ext memory_profiler"
   ]
  },
  {
   "cell_type": "markdown",
   "metadata": {},
   "source": [
    "## 1. Download Data"
   ]
  },
  {
   "cell_type": "code",
   "execution_count": 4,
   "metadata": {},
   "outputs": [
    {
     "name": "stderr",
     "output_type": "stream",
     "text": [
      "INFO    58   src.download               Downloading 814MB file in 10MB chunks.\n",
      "100%|██████████| 814M/814M [00:56<00:00, 14.4MiB/s]\n",
      "INFO    69   src.download               File downloaded to: /Users/Jayme/OneDrive/MDS/525/rainfall_group22/data/data.zip\n",
      "INFO    126  src.download               Unpacking zip to: /Users/Jayme/OneDrive/MDS/525/rainfall_group22/data/csv\n"
     ]
    },
    {
     "name": "stdout",
     "output_type": "stream",
     "text": [
      "peak memory: 768.64 MiB, increment: 682.21 MiB\n",
      "CPU times: user 10.2 s, sys: 5.98 s, total: 16.1 s\n",
      "Wall time: 1min 12s\n"
     ]
    }
   ],
   "source": [
    "%%time\n",
    "%%memit\n",
    "\n",
    "# download and unzip data files\n",
    "files = dl.download_files('data.zip', chunk_size=10)\n",
    "\n",
    "if files:\n",
    "    dl.unzip(p=files[0], p_dst='csv', delete=False)"
   ]
  },
  {
   "cell_type": "markdown",
   "metadata": {},
   "source": [
    "## 2. Combine CSVs"
   ]
  },
  {
   "cell_type": "markdown",
   "metadata": {},
   "source": [
    "### Pandas"
   ]
  },
  {
   "cell_type": "code",
   "execution_count": 2,
   "metadata": {},
   "outputs": [
    {
     "name": "stdout",
     "output_type": "stream",
     "text": [
      "peak memory: 12711.09 MiB, increment: 12626.35 MiB\n",
      "CPU times: user 53.6 s, sys: 8.9 s, total: 1min 2s\n",
      "Wall time: 1min 3s\n"
     ]
    }
   ],
   "source": [
    "%%time\n",
    "%%memit\n",
    "\n",
    "# combine csvs with pandas\n",
    "\n",
    "p_data = dl.p_data / 'csv'\n",
    "\n",
    "csvs = [p_csv for p_csv in p_data.glob('*.csv')]\n",
    "dfs = []\n",
    "\n",
    "for p in csvs:\n",
    "    model_name = p.name.split('_')[0]\n",
    "    df = pd.read_csv(p) \\\n",
    "        .assign(model=model_name)\n",
    "\n",
    "    dfs.append(df)\n",
    "\n",
    "df = pd.concat(dfs) \\\n",
    "    .rename(columns={'rain (mm/day)': 'rain'})\n",
    "\n",
    "print(df.shape)"
   ]
  },
  {
   "cell_type": "markdown",
   "metadata": {},
   "source": [
    "#### Runtimes\n",
    "\n",
    "|User|OS|Processor|RAM|Load Time|\n",
    "|:--|:--|:--|:--|:--|\n",
    "|Jayme|Mac OS|2.4 GHz 8-Core Intel Core i9|32 GB 2667 MHz DDR4| 63s|\n",
    "|Zhiyong| | | |\n",
    "|Marc| | | |\n",
    "\n",
    "TODO Discuss Observations\n"
   ]
  },
  {
   "cell_type": "markdown",
   "metadata": {},
   "source": [
    "### DASK"
   ]
  },
  {
   "cell_type": "code",
   "execution_count": null,
   "metadata": {},
   "outputs": [],
   "source": [
    "%%time\n",
    "%%memit\n",
    "\n",
    "# combine csvs with dask"
   ]
  },
  {
   "cell_type": "markdown",
   "metadata": {},
   "source": [
    "## 3. Python EDA\n",
    "\n",
    "Investigate and summaries at least two of the following approaches to reduce memory usage during eda:\n",
    "- Changing dtype of your data\n",
    "- Load just columns what we want\n",
    "- Loading in chunks\n",
    "- Dask"
   ]
  },
  {
   "cell_type": "markdown",
   "metadata": {},
   "source": [
    "TODO Discuss Observations python eda"
   ]
  },
  {
   "cell_type": "markdown",
   "metadata": {},
   "source": [
    "## 4. R EDA\n",
    "\n",
    "Pick an approach to transfer the dataframe from python to R.\n",
    "- Parquet file\n",
    "- Feather file\n",
    "- Pandas exchange\n",
    "- Arrow exchange"
   ]
  },
  {
   "cell_type": "markdown",
   "metadata": {},
   "source": [
    "TODO Discuss Observations R eda"
   ]
  }
 ],
 "metadata": {
  "kernelspec": {
   "display_name": "Python 3.9.2 64-bit",
   "name": "python392jvsc74a57bd05f64a08ba80a1d706a454cd0ee914c64032d7d24fcc0f3b13111ced7280307b5"
  },
  "language_info": {
   "codemirror_mode": {
    "name": "ipython",
    "version": 3
   },
   "file_extension": ".py",
   "mimetype": "text/x-python",
   "name": "python",
   "nbconvert_exporter": "python",
   "pygments_lexer": "ipython3",
   "version": "3.9.2"
  },
  "metadata": {
   "interpreter": {
    "hash": "5f64a08ba80a1d706a454cd0ee914c64032d7d24fcc0f3b13111ced7280307b5"
   }
  },
  "orig_nbformat": 2
 },
 "nbformat": 4,
 "nbformat_minor": 2
}