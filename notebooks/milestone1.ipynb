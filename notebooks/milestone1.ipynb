{
 "cells": [
  {
   "cell_type": "code",
   "execution_count": 1,
   "id": "alike-barbados",
   "metadata": {},
   "outputs": [],
   "source": [
    "import re\n",
    "import os\n",
    "import glob\n",
    "import zipfile\n",
    "import requests\n",
    "from urllib.request import urlretrieve\n",
    "import json\n",
    "import pandas as pd\n",
    "import numpy as np\n",
    "from memory_profiler import memory_usage\n",
    "\n",
    "import rpy2.rinterface\n",
    "import dask.dataframe as dd\n",
    "## install the packages https://arrow.apache.org/docs/python/install.html\n",
    "import pyarrow.dataset as ds\n",
    "import pyarrow as pa\n",
    "import pyarrow.parquet as pq\n",
    "## How to install put instructions https://anaconda.org/conda-forge/rpy2\n",
    "import rpy2.rinterface\n",
    "# install this https://pypi.org/project/rpy2-arrow/#description  pip install rpy2-arrow\n",
    "# have to install this as well conda install -c conda-forge r-arrow \n",
    "import rpy2_arrow.pyarrow_rarrow as pyra\n",
    "### instruction\n",
    "import pyarrow.feather as feather"
   ]
  },
  {
   "cell_type": "code",
   "execution_count": 2,
   "id": "hybrid-blocking",
   "metadata": {},
   "outputs": [],
   "source": [
    "%load_ext rpy2.ipython\n",
    "%load_ext memory_profiler"
   ]
  },
  {
   "cell_type": "markdown",
   "id": "honest-alcohol",
   "metadata": {},
   "source": [
    "## 1. Download the data"
   ]
  },
  {
   "cell_type": "code",
   "execution_count": 3,
   "id": "challenging-mistake",
   "metadata": {},
   "outputs": [],
   "source": [
    "#global variables\n",
    "\n",
    "# Necessary metadata\n",
    "article_id = 14096681  # this is the unique identifier of the article on figshare\n",
    "url = f\"https://api.figshare.com/v2/articles/{article_id}\"\n",
    "headers = {\"Content-Type\": \"application/json\"}\n",
    "output_directory = \"figshare/\"\n",
    "# Link up with figshare\n",
    "response = requests.request(\"GET\", url, headers=headers)\n",
    "data = json.loads(response.text)  # this contains all the articles data, feel free to check it out\n",
    "files = data[\"files\"]             # this is just the data about the files, which is what we want\n",
    "# Download desired files\n",
    "files_to_dl = [\"README.md\", \"data.zip\"]       # list of files to download\n",
    "os.makedirs(output_directory, exist_ok=True)  # output directory to save in\n",
    "for file in files:\n",
    "    if file[\"name\"] in files_to_dl:\n",
    "        urlretrieve(file[\"download_url\"], output_directory + file[\"name\"])"
   ]
  },
  {
   "cell_type": "code",
   "execution_count": 4,
   "id": "french-injury",
   "metadata": {},
   "outputs": [
    {
     "name": "stdout",
     "output_type": "stream",
     "text": [
      "CPU times: user 19.4 s, sys: 2.95 s, total: 22.4 s\n",
      "Wall time: 23.9 s\n"
     ]
    }
   ],
   "source": [
    "%%time\n",
    "with zipfile.ZipFile(os.path.join(output_directory, \"data.zip\"), 'r') as f:\n",
    "    f.extractall(output_directory)"
   ]
  },
  {
   "cell_type": "markdown",
   "id": "mineral-mattress",
   "metadata": {},
   "source": [
    "# 2. Combinning data CSVs"
   ]
  },
  {
   "cell_type": "code",
   "execution_count": 5,
   "id": "greenhouse-ceramic",
   "metadata": {},
   "outputs": [
    {
     "data": {
      "text/html": [
       "<div>\n",
       "<style scoped>\n",
       "    .dataframe tbody tr th:only-of-type {\n",
       "        vertical-align: middle;\n",
       "    }\n",
       "\n",
       "    .dataframe tbody tr th {\n",
       "        vertical-align: top;\n",
       "    }\n",
       "\n",
       "    .dataframe thead th {\n",
       "        text-align: right;\n",
       "    }\n",
       "</style>\n",
       "<table border=\"1\" class=\"dataframe\">\n",
       "  <thead>\n",
       "    <tr style=\"text-align: right;\">\n",
       "      <th></th>\n",
       "      <th>lat_min</th>\n",
       "      <th>lat_max</th>\n",
       "      <th>lon_min</th>\n",
       "      <th>lon_max</th>\n",
       "      <th>rain (mm/day)</th>\n",
       "    </tr>\n",
       "    <tr>\n",
       "      <th>time</th>\n",
       "      <th></th>\n",
       "      <th></th>\n",
       "      <th></th>\n",
       "      <th></th>\n",
       "      <th></th>\n",
       "    </tr>\n",
       "  </thead>\n",
       "  <tbody>\n",
       "    <tr>\n",
       "      <th>1889-01-01 12:00:00</th>\n",
       "      <td>-36.0</td>\n",
       "      <td>-34.5</td>\n",
       "      <td>141.0</td>\n",
       "      <td>143.0</td>\n",
       "      <td>3.176243e-08</td>\n",
       "    </tr>\n",
       "    <tr>\n",
       "      <th>1889-01-02 12:00:00</th>\n",
       "      <td>-36.0</td>\n",
       "      <td>-34.5</td>\n",
       "      <td>141.0</td>\n",
       "      <td>143.0</td>\n",
       "      <td>3.678816e-09</td>\n",
       "    </tr>\n",
       "    <tr>\n",
       "      <th>1889-01-03 12:00:00</th>\n",
       "      <td>-36.0</td>\n",
       "      <td>-34.5</td>\n",
       "      <td>141.0</td>\n",
       "      <td>143.0</td>\n",
       "      <td>2.017436e-07</td>\n",
       "    </tr>\n",
       "    <tr>\n",
       "      <th>1889-01-04 12:00:00</th>\n",
       "      <td>-36.0</td>\n",
       "      <td>-34.5</td>\n",
       "      <td>141.0</td>\n",
       "      <td>143.0</td>\n",
       "      <td>3.976414e+00</td>\n",
       "    </tr>\n",
       "    <tr>\n",
       "      <th>1889-01-05 12:00:00</th>\n",
       "      <td>-36.0</td>\n",
       "      <td>-34.5</td>\n",
       "      <td>141.0</td>\n",
       "      <td>143.0</td>\n",
       "      <td>2.978595e+00</td>\n",
       "    </tr>\n",
       "  </tbody>\n",
       "</table>\n",
       "</div>"
      ],
      "text/plain": [
       "                     lat_min  lat_max  lon_min  lon_max  rain (mm/day)\n",
       "time                                                                  \n",
       "1889-01-01 12:00:00    -36.0    -34.5    141.0    143.0   3.176243e-08\n",
       "1889-01-02 12:00:00    -36.0    -34.5    141.0    143.0   3.678816e-09\n",
       "1889-01-03 12:00:00    -36.0    -34.5    141.0    143.0   2.017436e-07\n",
       "1889-01-04 12:00:00    -36.0    -34.5    141.0    143.0   3.976414e+00\n",
       "1889-01-05 12:00:00    -36.0    -34.5    141.0    143.0   2.978595e+00"
      ]
     },
     "execution_count": 5,
     "metadata": {},
     "output_type": "execute_result"
    }
   ],
   "source": [
    "df = pd.read_csv(\"figshare/INM-CM4-8_daily_rainfall_NSW.csv\", index_col=0, parse_dates=True)\n",
    "df.head()"
   ]
  },
  {
   "cell_type": "code",
   "execution_count": 6,
   "id": "latin-notice",
   "metadata": {},
   "outputs": [
    {
     "name": "stdout",
     "output_type": "stream",
     "text": [
      "<class 'pandas.core.frame.DataFrame'>\n",
      "DatetimeIndex: 1609650 entries, 1889-01-01 12:00:00 to 2014-12-31 12:00:00\n",
      "Data columns (total 5 columns):\n",
      " #   Column         Non-Null Count    Dtype  \n",
      "---  ------         --------------    -----  \n",
      " 0   lat_min        1609650 non-null  float64\n",
      " 1   lat_max        1609650 non-null  float64\n",
      " 2   lon_min        1609650 non-null  float64\n",
      " 3   lon_max        1609650 non-null  float64\n",
      " 4   rain (mm/day)  1609650 non-null  float64\n",
      "dtypes: float64(5)\n",
      "memory usage: 73.7 MB\n"
     ]
    }
   ],
   "source": [
    "df.info()"
   ]
  },
  {
   "cell_type": "code",
   "execution_count": 7,
   "id": "faced-possibility",
   "metadata": {},
   "outputs": [],
   "source": [
    "files = glob.glob('figshare/*_daily_rainfall_NSW.csv')"
   ]
  },
  {
   "cell_type": "code",
   "execution_count": 8,
   "id": "humanitarian-rotation",
   "metadata": {},
   "outputs": [
    {
     "name": "stdout",
     "output_type": "stream",
     "text": [
      "figshare/MPI-ESM-1-2-HAM_daily_rainfall_NSW.csv\n",
      "figshare/AWI-ESM-1-1-LR_daily_rainfall_NSW.csv\n",
      "figshare/NorESM2-LM_daily_rainfall_NSW.csv\n",
      "figshare/ACCESS-CM2_daily_rainfall_NSW.csv\n",
      "figshare/FGOALS-f3-L_daily_rainfall_NSW.csv\n",
      "figshare/CMCC-CM2-HR4_daily_rainfall_NSW.csv\n",
      "figshare/MRI-ESM2-0_daily_rainfall_NSW.csv\n",
      "figshare/GFDL-CM4_daily_rainfall_NSW.csv\n",
      "figshare/BCC-CSM2-MR_daily_rainfall_NSW.csv\n",
      "figshare/EC-Earth3-Veg-LR_daily_rainfall_NSW.csv\n",
      "figshare/CMCC-ESM2_daily_rainfall_NSW.csv\n",
      "figshare/NESM3_daily_rainfall_NSW.csv\n",
      "figshare/MPI-ESM1-2-LR_daily_rainfall_NSW.csv\n",
      "figshare/ACCESS-ESM1-5_daily_rainfall_NSW.csv\n",
      "figshare/FGOALS-g3_daily_rainfall_NSW.csv\n",
      "figshare/INM-CM4-8_daily_rainfall_NSW.csv\n",
      "figshare/MPI-ESM1-2-HR_daily_rainfall_NSW.csv\n",
      "figshare/TaiESM1_daily_rainfall_NSW.csv\n",
      "figshare/NorESM2-MM_daily_rainfall_NSW.csv\n",
      "figshare/CMCC-CM2-SR5_daily_rainfall_NSW.csv\n",
      "figshare/KIOST-ESM_daily_rainfall_NSW.csv\n",
      "figshare/INM-CM5-0_daily_rainfall_NSW.csv\n",
      "figshare/MIROC6_daily_rainfall_NSW.csv\n",
      "figshare/BCC-ESM1_daily_rainfall_NSW.csv\n",
      "figshare/GFDL-ESM4_daily_rainfall_NSW.csv\n",
      "figshare/CanESM5_daily_rainfall_NSW.csv\n",
      "figshare/SAM0-UNICON_daily_rainfall_NSW.csv\n"
     ]
    }
   ],
   "source": [
    "for f in files:\n",
    "    print(f)"
   ]
  },
  {
   "cell_type": "code",
   "execution_count": 9,
   "id": "thorough-despite",
   "metadata": {},
   "outputs": [
    {
     "name": "stdout",
     "output_type": "stream",
     "text": [
      "peak memory: 320.26 MiB, increment: 0.09 MiB\n",
      "CPU times: user 1min 16s, sys: 13.4 s, total: 1min 29s\n",
      "Wall time: 1min 37s\n"
     ]
    }
   ],
   "source": [
    "%%time\n",
    "%memit\n",
    "\n",
    "df = pd.concat((pd.read_csv(file, index_col=0, parse_dates=True).assign(model = re.findall(r'(?<=figshare/).+(?=_daily_rainfall_NSW)', file)[0]) for file in files))"
   ]
  },
  {
   "cell_type": "code",
   "execution_count": 10,
   "id": "built-allocation",
   "metadata": {},
   "outputs": [
    {
     "data": {
      "text/html": [
       "<div>\n",
       "<style scoped>\n",
       "    .dataframe tbody tr th:only-of-type {\n",
       "        vertical-align: middle;\n",
       "    }\n",
       "\n",
       "    .dataframe tbody tr th {\n",
       "        vertical-align: top;\n",
       "    }\n",
       "\n",
       "    .dataframe thead th {\n",
       "        text-align: right;\n",
       "    }\n",
       "</style>\n",
       "<table border=\"1\" class=\"dataframe\">\n",
       "  <thead>\n",
       "    <tr style=\"text-align: right;\">\n",
       "      <th></th>\n",
       "      <th>lat_min</th>\n",
       "      <th>lat_max</th>\n",
       "      <th>lon_min</th>\n",
       "      <th>lon_max</th>\n",
       "      <th>rain (mm/day)</th>\n",
       "      <th>model</th>\n",
       "    </tr>\n",
       "    <tr>\n",
       "      <th>time</th>\n",
       "      <th></th>\n",
       "      <th></th>\n",
       "      <th></th>\n",
       "      <th></th>\n",
       "      <th></th>\n",
       "      <th></th>\n",
       "    </tr>\n",
       "  </thead>\n",
       "  <tbody>\n",
       "    <tr>\n",
       "      <th>1889-01-01 12:00:00</th>\n",
       "      <td>-35.439867</td>\n",
       "      <td>-33.574619</td>\n",
       "      <td>141.5625</td>\n",
       "      <td>143.4375</td>\n",
       "      <td>4.244226e-13</td>\n",
       "      <td>MPI-ESM-1-2-HAM</td>\n",
       "    </tr>\n",
       "    <tr>\n",
       "      <th>1889-01-02 12:00:00</th>\n",
       "      <td>-35.439867</td>\n",
       "      <td>-33.574619</td>\n",
       "      <td>141.5625</td>\n",
       "      <td>143.4375</td>\n",
       "      <td>4.217326e-13</td>\n",
       "      <td>MPI-ESM-1-2-HAM</td>\n",
       "    </tr>\n",
       "    <tr>\n",
       "      <th>1889-01-03 12:00:00</th>\n",
       "      <td>-35.439867</td>\n",
       "      <td>-33.574619</td>\n",
       "      <td>141.5625</td>\n",
       "      <td>143.4375</td>\n",
       "      <td>4.498125e-13</td>\n",
       "      <td>MPI-ESM-1-2-HAM</td>\n",
       "    </tr>\n",
       "    <tr>\n",
       "      <th>1889-01-04 12:00:00</th>\n",
       "      <td>-35.439867</td>\n",
       "      <td>-33.574619</td>\n",
       "      <td>141.5625</td>\n",
       "      <td>143.4375</td>\n",
       "      <td>4.251282e-13</td>\n",
       "      <td>MPI-ESM-1-2-HAM</td>\n",
       "    </tr>\n",
       "    <tr>\n",
       "      <th>1889-01-05 12:00:00</th>\n",
       "      <td>-35.439867</td>\n",
       "      <td>-33.574619</td>\n",
       "      <td>141.5625</td>\n",
       "      <td>143.4375</td>\n",
       "      <td>4.270161e-13</td>\n",
       "      <td>MPI-ESM-1-2-HAM</td>\n",
       "    </tr>\n",
       "  </tbody>\n",
       "</table>\n",
       "</div>"
      ],
      "text/plain": [
       "                       lat_min    lat_max   lon_min   lon_max  rain (mm/day)  \\\n",
       "time                                                                           \n",
       "1889-01-01 12:00:00 -35.439867 -33.574619  141.5625  143.4375   4.244226e-13   \n",
       "1889-01-02 12:00:00 -35.439867 -33.574619  141.5625  143.4375   4.217326e-13   \n",
       "1889-01-03 12:00:00 -35.439867 -33.574619  141.5625  143.4375   4.498125e-13   \n",
       "1889-01-04 12:00:00 -35.439867 -33.574619  141.5625  143.4375   4.251282e-13   \n",
       "1889-01-05 12:00:00 -35.439867 -33.574619  141.5625  143.4375   4.270161e-13   \n",
       "\n",
       "                               model  \n",
       "time                                  \n",
       "1889-01-01 12:00:00  MPI-ESM-1-2-HAM  \n",
       "1889-01-02 12:00:00  MPI-ESM-1-2-HAM  \n",
       "1889-01-03 12:00:00  MPI-ESM-1-2-HAM  \n",
       "1889-01-04 12:00:00  MPI-ESM-1-2-HAM  \n",
       "1889-01-05 12:00:00  MPI-ESM-1-2-HAM  "
      ]
     },
     "execution_count": 10,
     "metadata": {},
     "output_type": "execute_result"
    }
   ],
   "source": [
    "df.head()"
   ]
  },
  {
   "cell_type": "code",
   "execution_count": 11,
   "id": "regional-population",
   "metadata": {},
   "outputs": [
    {
     "name": "stdout",
     "output_type": "stream",
     "text": [
      "<class 'pandas.core.frame.DataFrame'>\n",
      "DatetimeIndex: 62467843 entries, 1889-01-01 12:00:00 to 2014-12-31 12:00:00\n",
      "Data columns (total 6 columns):\n",
      " #   Column         Dtype  \n",
      "---  ------         -----  \n",
      " 0   lat_min        float64\n",
      " 1   lat_max        float64\n",
      " 2   lon_min        float64\n",
      " 3   lon_max        float64\n",
      " 4   rain (mm/day)  float64\n",
      " 5   model          object \n",
      "dtypes: float64(5), object(1)\n",
      "memory usage: 3.3+ GB\n"
     ]
    }
   ],
   "source": [
    "df.info()"
   ]
  },
  {
   "cell_type": "code",
   "execution_count": 12,
   "id": "southwest-ecuador",
   "metadata": {},
   "outputs": [],
   "source": [
    "df.to_csv(\"figshare/combined_data.csv\")"
   ]
  },
  {
   "cell_type": "code",
   "execution_count": 13,
   "id": "aquatic-extension",
   "metadata": {},
   "outputs": [
    {
     "name": "stdout",
     "output_type": "stream",
     "text": [
      "4.4G\tfigshare/combined_data.csv\n"
     ]
    }
   ],
   "source": [
    "%%sh\n",
    "du -sh figshare/combined_data.csv"
   ]
  },
  {
   "cell_type": "code",
   "execution_count": 14,
   "id": "terminal-puzzle",
   "metadata": {},
   "outputs": [
    {
     "name": "stdout",
     "output_type": "stream",
     "text": [
      "peak memory: 1502.21 MiB, increment: 9.68 MiB\n",
      "CPU times: user 181 ms, sys: 1.18 s, total: 1.36 s\n",
      "Wall time: 3.25 s\n"
     ]
    }
   ],
   "source": [
    "%%time\n",
    "%%memit\n",
    "# shows time that dask take to merge\n",
    "\n",
    "ddf = dd.read_csv(\"figshare/*.csv\",assume_missing=True)"
   ]
  },
  {
   "cell_type": "code",
   "execution_count": 15,
   "id": "practical-carter",
   "metadata": {},
   "outputs": [
    {
     "data": {
      "text/html": [
       "<div>\n",
       "<style scoped>\n",
       "    .dataframe tbody tr th:only-of-type {\n",
       "        vertical-align: middle;\n",
       "    }\n",
       "\n",
       "    .dataframe tbody tr th {\n",
       "        vertical-align: top;\n",
       "    }\n",
       "\n",
       "    .dataframe thead th {\n",
       "        text-align: right;\n",
       "    }\n",
       "</style>\n",
       "<table border=\"1\" class=\"dataframe\">\n",
       "  <thead>\n",
       "    <tr style=\"text-align: right;\">\n",
       "      <th></th>\n",
       "      <th>time</th>\n",
       "      <th>lat_min</th>\n",
       "      <th>lat_max</th>\n",
       "      <th>lon_min</th>\n",
       "      <th>lon_max</th>\n",
       "      <th>rain (mm/day)</th>\n",
       "    </tr>\n",
       "  </thead>\n",
       "  <tbody>\n",
       "    <tr>\n",
       "      <th>0</th>\n",
       "      <td>1889-01-01 12:00:00</td>\n",
       "      <td>-36.25</td>\n",
       "      <td>-35.0</td>\n",
       "      <td>140.625</td>\n",
       "      <td>142.5</td>\n",
       "      <td>3.293256e-13</td>\n",
       "    </tr>\n",
       "    <tr>\n",
       "      <th>1</th>\n",
       "      <td>1889-01-02 12:00:00</td>\n",
       "      <td>-36.25</td>\n",
       "      <td>-35.0</td>\n",
       "      <td>140.625</td>\n",
       "      <td>142.5</td>\n",
       "      <td>0.000000e+00</td>\n",
       "    </tr>\n",
       "    <tr>\n",
       "      <th>2</th>\n",
       "      <td>1889-01-03 12:00:00</td>\n",
       "      <td>-36.25</td>\n",
       "      <td>-35.0</td>\n",
       "      <td>140.625</td>\n",
       "      <td>142.5</td>\n",
       "      <td>0.000000e+00</td>\n",
       "    </tr>\n",
       "    <tr>\n",
       "      <th>3</th>\n",
       "      <td>1889-01-04 12:00:00</td>\n",
       "      <td>-36.25</td>\n",
       "      <td>-35.0</td>\n",
       "      <td>140.625</td>\n",
       "      <td>142.5</td>\n",
       "      <td>0.000000e+00</td>\n",
       "    </tr>\n",
       "    <tr>\n",
       "      <th>4</th>\n",
       "      <td>1889-01-05 12:00:00</td>\n",
       "      <td>-36.25</td>\n",
       "      <td>-35.0</td>\n",
       "      <td>140.625</td>\n",
       "      <td>142.5</td>\n",
       "      <td>1.047658e-02</td>\n",
       "    </tr>\n",
       "  </tbody>\n",
       "</table>\n",
       "</div>"
      ],
      "text/plain": [
       "                  time  lat_min  lat_max  lon_min  lon_max  rain (mm/day)\n",
       "0  1889-01-01 12:00:00   -36.25    -35.0  140.625    142.5   3.293256e-13\n",
       "1  1889-01-02 12:00:00   -36.25    -35.0  140.625    142.5   0.000000e+00\n",
       "2  1889-01-03 12:00:00   -36.25    -35.0  140.625    142.5   0.000000e+00\n",
       "3  1889-01-04 12:00:00   -36.25    -35.0  140.625    142.5   0.000000e+00\n",
       "4  1889-01-05 12:00:00   -36.25    -35.0  140.625    142.5   1.047658e-02"
      ]
     },
     "execution_count": 15,
     "metadata": {},
     "output_type": "execute_result"
    }
   ],
   "source": [
    "ddf.head()"
   ]
  },
  {
   "cell_type": "markdown",
   "id": "waiting-camping",
   "metadata": {},
   "source": [
    "# 3. Load the combined CSV to memory and find the maximum rain drop(Python)"
   ]
  },
  {
   "cell_type": "code",
   "execution_count": 5,
   "id": "legal-spending",
   "metadata": {},
   "outputs": [
    {
     "name": "stdout",
     "output_type": "stream",
     "text": [
      "the max rain drop is: 432.9395145177841 mm/day\n",
      "peak memory: 3517.64 MiB, increment: 3185.21 MiB\n",
      "CPU times: user 54.8 s, sys: 15.6 s, total: 1min 10s\n",
      "Wall time: 1min 15s\n"
     ]
    }
   ],
   "source": [
    "%%time\n",
    "%%memit\n",
    "\n",
    "max_rain_slow = pd.read_csv(\"figshare/combined_data.csv\")['rain (mm/day)'].max()\n",
    "print(f'the max rain drop is: {max_rain_slow} mm/day')"
   ]
  },
  {
   "cell_type": "code",
   "execution_count": 19,
   "id": "canadian-wagon",
   "metadata": {},
   "outputs": [
    {
     "name": "stdout",
     "output_type": "stream",
     "text": [
      "the max rain drop is: 432.9395145177841\n",
      "peak memory: 2224.97 MiB, increment: 1549.34 MiB\n",
      "CPU times: user 54.2 s, sys: 6.9 s, total: 1min 1s\n",
      "Wall time: 1min 4s\n"
     ]
    }
   ],
   "source": [
    "%%time\n",
    "%%memit\n",
    "max_rain = np.finfo('float64').min\n",
    "\n",
    "for chunk in pd.read_csv('figshare/combined_data.csv', chunksize=10_000_000):\n",
    "    m = chunk['rain (mm/day)'].max()\n",
    "    if m > max_rain:\n",
    "        max_rain = m\n",
    "\n",
    "print(f'the max rain drop is: {max_rain} mm/day')"
   ]
  },
  {
   "cell_type": "code",
   "execution_count": 3,
   "id": "educated-tissue",
   "metadata": {},
   "outputs": [
    {
     "name": "stdout",
     "output_type": "stream",
     "text": [
      "peak memory: 1019.96 MiB, increment: 866.99 MiB\n",
      "CPU times: user 1min 14s, sys: 13.9 s, total: 1min 28s\n",
      "Wall time: 44.9 s\n"
     ]
    }
   ],
   "source": [
    "%%time\n",
    "%%memit\n",
    "\n",
    "ddf = dd.read_csv('figshare/combined_data.csv')\n",
    "max_rain_dd = ddf['rain (mm/day)'].max().compute()\n"
   ]
  },
  {
   "cell_type": "code",
   "execution_count": 4,
   "id": "dimensional-hours",
   "metadata": {},
   "outputs": [
    {
     "name": "stdout",
     "output_type": "stream",
     "text": [
      "the max rain drop is: 432.9395145177841 mm/day\n"
     ]
    }
   ],
   "source": [
    "print(f'the max rain drop is: {max_rain_dd} mm/day')"
   ]
  },
  {
   "cell_type": "code",
   "execution_count": 3,
   "id": "nuclear-geneva",
   "metadata": {},
   "outputs": [
    {
     "name": "stdout",
     "output_type": "stream",
     "text": [
      "the max rain drop is: 432.9395145177841 mm/day\n",
      "peak memory: 688.32 MiB, increment: 452.52 MiB\n",
      "CPU times: user 23.6 s, sys: 2.6 s, total: 26.2 s\n",
      "Wall time: 27.6 s\n"
     ]
    }
   ],
   "source": [
    "%%time\n",
    "%%memit\n",
    "\n",
    "part_df = pd.read_csv('figshare/combined_data.csv', usecols=['rain (mm/day)'])\n",
    "max_rain_part = part_df['rain (mm/day)'].max()\n",
    "print(f'the max rain drop is: {max_rain_part} mm/day')"
   ]
  },
  {
   "cell_type": "markdown",
   "id": "differential-alexandria",
   "metadata": {},
   "source": [
    "#### The memory usage while loading csv and performing EDA(find the maximum rain drop)\n",
    "\n",
    "| Approach        | memory usage(MB)           | execution time  |\n",
    "| ------------- |:-------------:| -----:|\n",
    "| Regular      | 3517.64 |   1min 10s    |\n",
    "| Loading in chunks      | 2224.97      |  1min 1s  |\n",
    "| Dask | 1019.96      |  1min 28s   |\n",
    "| Load single column | 688.32      |  26.2 s   |\n",
    "\n",
    "#### Observations\n",
    "- To find the maximum rain drop, we only need one column in the table\n",
    "- The approach of loading just this single column use the least memory and spend the shortest time\n",
    "- Regular approach without any optimization use the most memory and spend the longest time"
   ]
  },
  {
   "cell_type": "markdown",
   "id": "lyric-poison",
   "metadata": {},
   "source": [
    "# 4. Save to various file formats"
   ]
  },
  {
   "cell_type": "code",
   "execution_count": 7,
   "id": "funded-courage",
   "metadata": {},
   "outputs": [],
   "source": [
    "dataset = ds.dataset('figshare/combined_data.csv', format='csv')\n",
    "arrow_table = dataset.to_table()"
   ]
  },
  {
   "cell_type": "code",
   "execution_count": 8,
   "id": "mature-pierce",
   "metadata": {},
   "outputs": [
    {
     "name": "stdout",
     "output_type": "stream",
     "text": [
      "peak memory: 3242.37 MiB, increment: 2930.09 MiB\n",
      "CPU times: user 5.07 s, sys: 8.96 s, total: 14 s\n",
      "Wall time: 8.4 s\n"
     ]
    }
   ],
   "source": [
    "%%time\n",
    "%%memit\n",
    "\n",
    "feather.write_feather(arrow_table, 'figshare/combined_data.feather')"
   ]
  },
  {
   "cell_type": "code",
   "execution_count": 9,
   "id": "secondary-vanilla",
   "metadata": {},
   "outputs": [
    {
     "name": "stdout",
     "output_type": "stream",
     "text": [
      "peak memory: 4656.05 MiB, increment: 1407.00 MiB\n",
      "CPU times: user 23.5 s, sys: 20.9 s, total: 44.4 s\n",
      "Wall time: 51.4 s\n"
     ]
    }
   ],
   "source": [
    "%%time\n",
    "%%memit\n",
    "\n",
    "pq.write_to_dataset(arrow_table, 'figshare/combined_data.parquet', partition_cols=['model'])"
   ]
  },
  {
   "cell_type": "markdown",
   "id": "orange-forge",
   "metadata": {},
   "source": [
    "# 5. Perform a simple EDA in R"
   ]
  },
  {
   "cell_type": "code",
   "execution_count": 11,
   "id": "close-pencil",
   "metadata": {},
   "outputs": [
    {
     "name": "stdout",
     "output_type": "stream",
     "text": [
      "[1] \"tbl_df\"     \"tbl\"        \"data.frame\"\n",
      "[1] 432.9395\n",
      "Time difference of 26.65761 secs\n",
      "CPU times: user 10 s, sys: 19.2 s, total: 29.3 s\n",
      "Wall time: 26.8 s\n"
     ]
    }
   ],
   "source": [
    "%%time\n",
    "%%R\n",
    "### her we are showing how much time it took to read a feather file what we wrote in python\n",
    "library(arrow)\n",
    "start_time <- Sys.time()\n",
    "r_table <- arrow::read_feather(\"figshare/combined_data.feather\")\n",
    "print(class(r_table))\n",
    "library(dplyr)\n",
    "result <- r_table %>% select('rain (mm/day)') %>% max()\n",
    "end_time <- Sys.time()\n",
    "print(result)\n",
    "print(end_time - start_time)"
   ]
  },
  {
   "cell_type": "markdown",
   "id": "fuzzy-personal",
   "metadata": {},
   "source": [
    "#### Discussion\n",
    "- Our team use `Feather file` approach to transfer the dataframe from python to R\n",
    "- Our EDA(finding the maximum rain drop) only need a single column, so basically in Python we use Python Arrow to explore the data both for the space and time efficiency\n",
    "- Feather is how we store the arrow table in memory to disk\n",
    "- R has a good support on reading feather format data "
   ]
  }
 ],
 "metadata": {
  "kernelspec": {
   "display_name": "Python [conda env:525]",
   "language": "python",
   "name": "conda-env-525-py"
  },
  "language_info": {
   "codemirror_mode": {
    "name": "ipython",
    "version": 3
   },
   "file_extension": ".py",
   "mimetype": "text/x-python",
   "name": "python",
   "nbconvert_exporter": "python",
   "pygments_lexer": "ipython3",
   "version": "3.9.2"
  }
 },
 "nbformat": 4,
 "nbformat_minor": 5
}
